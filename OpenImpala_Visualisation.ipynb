{
 "cells": [
  {
   "cell_type": "markdown",
   "id": "e0c8c4e0",
   "metadata": {},
   "source": [
    "# Visualisation of OpenImpala Data\n",
    "\n",
    "The aim of this notebook is to demonstrate how to visualise plots produced using OpenImpala. For this example all files are stored in the Git repository at: [github.com/jameslehoux/openimpala-jupyter](github.com/jameslehoux/openimpala-jupyter), and we will be using the open-source visualisation software, yt: [yt-project.org](yt-project.org)"
   ]
  },
  {
   "cell_type": "markdown",
   "id": "6252a37e",
   "metadata": {},
   "source": [
    "## Test Data\n",
    "\n",
    "We have provided a set of test data that will be used to demonstrate different visualisation functionality. These datasets are 3D image datasets of a lithium iron phosphate electrode:\n",
    "\n",
    "* *tiffreadertest* is a Tiff image that has been obtained from X-Ray tomography data, tomography data is produced as greyscale values and it has been thresholded into 2 domains.\n",
    "\n",
    "* *diffusionplot* is the same Tiff image from *tiffreadertest*, but a steady-state Fickian diffusion problem has been run in the x-direction across the domain."
   ]
  },
  {
   "cell_type": "markdown",
   "id": "87a224c5",
   "metadata": {},
   "source": [
    "## Visualisation of Tiff Data\n",
    "\n",
    "In order to visualise the Tiff data, first we need to load yt, and then create a dataset, *'tiffds'*, that points to testdata directory. \n",
    "\n",
    "We can then probe the dataset object using *'field_list'* to see the properties associated with that dataset, like: voxel dimensions, the real physical space taken up by the domain and the parameter values associated with the 3D space (e.g. phase)."
   ]
  },
  {
   "cell_type": "code",
   "execution_count": null,
   "id": "179d04c1",
   "metadata": {},
   "outputs": [],
   "source": [
    "import yt\n",
    "\n",
    "tiffds = yt.load(\"testdata/tiffreadertest\")\n",
    "\n",
    "tiffds.field_list"
   ]
  },
  {
   "cell_type": "markdown",
   "id": "4b625465",
   "metadata": {},
   "source": [
    "We can then use this dataset, *'tiffds'*, and plot a 2D representation of the phase information. To do this we can use a *SlicePlot*, specify the plane we want to slice, and specify the parameter we want to plot. Next we annotate the plot and choose the colour map and plotting characteristics:"
   ]
  },
  {
   "cell_type": "code",
   "execution_count": null,
   "id": "e87a226d",
   "metadata": {},
   "outputs": [],
   "source": [
    "slc = yt.SlicePlot(tiffds, \"y\", \"phase\")\n",
    "slc.annotate_title('This is a plot to show the phase composition')\n",
    "\n",
    "slc.set_log(\"phase\", False)\n",
    "\n",
    "slc.set_cmap(\"phase\", \"B-W LINEAR\")\n",
    "\n",
    "slc.show()\n"
   ]
  },
  {
   "cell_type": "markdown",
   "id": "4b9c6a74",
   "metadata": {},
   "source": [
    "*Now try modifying the code above to produce a different plot, this time in the x-plane.* "
   ]
  },
  {
   "cell_type": "markdown",
   "id": "00399eaa",
   "metadata": {},
   "source": [
    "## Diffusion Problem\n",
    "\n",
    "The diffusion field is calculated through using Fick's law:\n",
    "\n",
    "$$\n",
    "J_d = -D \\nabla \\varphi\n",
    "$$\n",
    "where $D$, the diffusion coefficient, is:\n",
    "\n",
    "$$\n",
    "D = 1\\,\\text{for the \"white\" phase}\n",
    "$$\n",
    "\n",
    "$$\n",
    "D = 0\\,\\text{for the \"black\" phase}\n",
    "$$\n",
    "\n",
    "so there is only conductivity in one phase in this case, and $\\nabla \\varphi$, the concentration gradient, is calculated using: \n",
    "\n",
    "$$\n",
    "\\begin{cases}\n",
    "\\nabla ^2\\varphi = 0, & \\text{in} \\quad \\Omega,\\\\\n",
    "\\varphi = 1, & \\text{on} \\quad T,\\\\\n",
    "\\nabla \\varphi \\cdot \\mathrm{\\textbf{n}}  = 0, & \\text{on} \\quad I,\\\\\n",
    "\\varphi = -1, & \\text{on} \\quad B\\\\\n",
    "\\end{cases}\n",
    "$$\n",
    "\n",
    "where $\\varphi$ is the local concentration of the diffusing species, $\\Omega$ is the conductive region of the porous medium, $\\mathrm{\\textbf{n}}$ is the outward pointing unit normal to $\\Omega$ and $T$, $B$ and $I$ are the top, bottom and interfacial faces respectively."
   ]
  },
  {
   "cell_type": "markdown",
   "id": "fb6e01e9",
   "metadata": {},
   "source": [
    "## 2D Visualisation of Diffusion Data\n",
    "\n",
    "To visualise the diffusion data, we need to again load the data into a dataset object, this time, *'ds'*, and then we can probe the dataset properties.\n",
    "\n",
    "*How does the dataset differ to the 'tiffds' example?*"
   ]
  },
  {
   "cell_type": "code",
   "execution_count": null,
   "id": "342ec3e5",
   "metadata": {},
   "outputs": [],
   "source": [
    "import yt\n",
    "\n",
    "ds = yt.load(\"testdata/diffusionplot\")\n",
    "\n",
    "ds.field_list"
   ]
  },
  {
   "cell_type": "markdown",
   "id": "4784b802",
   "metadata": {},
   "source": [
    "We can then use the same commands from the *'tiffds'* example to plot the phase information:"
   ]
  },
  {
   "cell_type": "code",
   "execution_count": null,
   "id": "1a8bf307",
   "metadata": {},
   "outputs": [],
   "source": [
    "slc = yt.SlicePlot(ds, \"y\", \"phase\")\n",
    "slc.annotate_title('This is a phase plot')\n",
    "\n",
    "slc.set_log(\"phase\", False)\n",
    "\n",
    "slc.set_cmap(\"phase\", \"B-W LINEAR\")\n",
    "\n",
    "slc.show()"
   ]
  },
  {
   "cell_type": "markdown",
   "id": "217f3105",
   "metadata": {},
   "source": [
    "But as we can see from the field_list probe, this dataset also contains values for *concentration*. We can change the properties of the SlicePlot to display this data instead:"
   ]
  },
  {
   "cell_type": "code",
   "execution_count": null,
   "id": "f8b9b09e",
   "metadata": {},
   "outputs": [],
   "source": [
    "slc = yt.SlicePlot(ds, \"y\", \"concentration\")\n",
    "slc.annotate_title('This is a concentration plot')\n",
    "slc.set_log(\"concentration\", False)\n",
    "\n",
    "slc.set_cmap(\"concentration\", \"kamae\")\n",
    "\n",
    "slc.show()\n"
   ]
  },
  {
   "cell_type": "markdown",
   "id": "640f170d",
   "metadata": {},
   "source": [
    "*Now try changing the colourmap of the plot above, you can use any matplotlib colourmaps or from this list: [yt-project.org/docs/dev/visualizing/colormaps/index.html](https://yt-project.org/docs/dev/visualizing/colormaps/index.html)*\n",
    "\n",
    "\n",
    "\n",
    "We can also plot projection plots, where the full depth of values into the plane is summed. These can help to build up understanding of constrictions and openings in structures, and how they affect flowpaths:"
   ]
  },
  {
   "cell_type": "code",
   "execution_count": null,
   "id": "710e2a34",
   "metadata": {},
   "outputs": [],
   "source": [
    "slc = yt.ProjectionPlot(ds, \"y\", [\"concentration\"])\n",
    "slc.annotate_title('This is a projection plot')\n",
    "slc.set_log(\"concentration\", False)\n",
    "\n",
    "slc.set_cmap(\"concentration\", \"hot\")\n",
    "\n",
    "slc.show()\n",
    "\n",
    "slc.set_cmap(\"concentration\", \"arbre\")\n",
    "\n",
    "slc.show()"
   ]
  },
  {
   "cell_type": "markdown",
   "id": "8ba702b9",
   "metadata": {},
   "source": [
    "We can also weight these projection plots to remove the influence of the phase value:"
   ]
  },
  {
   "cell_type": "code",
   "execution_count": null,
   "id": "9124b97b",
   "metadata": {},
   "outputs": [],
   "source": [
    "\n",
    "slc = yt.ProjectionPlot(ds, \"y\", \"concentration\", weight_field=\"phase\")\n",
    "slc.annotate_title('This is a weighted projection plot')\n",
    "slc.set_log(\"concentration\", False)\n",
    "\n",
    "slc.set_cmap(\"concentration\", \"arbre\")\n",
    "\n",
    "    \n",
    "\n",
    "\n",
    "slc.show()"
   ]
  },
  {
   "cell_type": "markdown",
   "id": "e9b2862e",
   "metadata": {},
   "source": [
    "## 3D Visualisation of Diffusion Data\n",
    "\n",
    "To visualise the diffusion data in 3D, we need to create something called a *scene*. A *scene* contains camera, lighting and dataset information, and tells yt what properties are important to be visualised.\n",
    "\n",
    "For example, if we wanted to plot a 3D representation of the phase field, we could use:"
   ]
  },
  {
   "cell_type": "code",
   "execution_count": null,
   "id": "13e4dac5",
   "metadata": {},
   "outputs": [],
   "source": [
    "sc = yt.create_scene(ds, field=\"phase\")\n",
    "source = sc[0]\n",
    "source.tfh.set_bounds((0.000000000001, 1))\n",
    "source.tfh.set_log(True)\n",
    "source.tfh.grey_opacity = True\n",
    "sc.camera.resolution = 1024\n",
    "sc.camera.switch_orientation()\n",
    "sc.annotate_axes(alpha=.5)\n",
    "sc.annotate_domain(ds, color=[1, 1, 1, 0.1])\n",
    "sc.show(sigma_clip = 3)"
   ]
  },
  {
   "cell_type": "markdown",
   "id": "86a85f27",
   "metadata": {},
   "source": [
    "Or if we wanted to plot a 3D represenatation of the concentration field, we could use:"
   ]
  },
  {
   "cell_type": "code",
   "execution_count": null,
   "id": "92bc30f5",
   "metadata": {},
   "outputs": [],
   "source": [
    "sc = yt.create_scene(ds, field=\"concentration\")\n",
    "\n",
    "\n",
    "source = sc[0]\n",
    "\n",
    "source.set_field('concentration')\n",
    "source.set_log(False)\n",
    "source.tfh.grey_opacity = True\n",
    "\n",
    "bounds = (1 ,2)\n",
    "sc.camera.focus = ds.domain_center\n",
    "sc.camera.resolution = 1024\n",
    "sc.camera.north_vector = [0, -1, 0]\n",
    "sc.camera.position = [-1, -1, -1]\n",
    "slc.set_log(\"concentration\", False)\n",
    "slc.set_log(\"phase\", False)\n",
    "\n",
    "ax = slc.plots['concentration'].axes\n",
    "\n",
    "# Since this rendering is done in log space, the transfer function needs\n",
    "# to be specified in log space.\n",
    "tf= yt.ColorTransferFunction(bounds)\n",
    "\n",
    "render_source = sc.get_source()\n",
    "render_source.transfer_function.clear()\n",
    "render_source.transfer_function.map_to_colormap(\n",
    "    (ds.quan(1.0)),\n",
    "    (ds.quan(2.0)),\n",
    "    scale=5.0, colormap='arbre')\n",
    "#tf.add_layers(2, colormap='arbre')\n",
    "\n",
    "#source.tfh.tf = tf\n",
    "#source.tfh.bounds = bounds\n",
    "sc.annotate_axes(alpha=.5)\n",
    "sc.annotate_domain(ds, color=[1, 1, 1, 0.1])\n",
    "\n",
    "sc.show(sigma_clip = 3)\n"
   ]
  },
  {
   "cell_type": "markdown",
   "id": "fb833a00",
   "metadata": {},
   "source": [
    "These 3D *scenes* are noticeably more complex than the 2D equivalents, and take more computing power to perform the visualisation. They are, however, useful tools in understanding the 3-dimensional influence of structure on flowpaths. To explore these ideas further, it is recommended to look at the yt wiki, available: [https://yt-project.org/docs/dev/visualizing/volume_rendering.html](https://yt-project.org/docs/dev/visualizing/volume_rendering.html) "
   ]
  }
 ],
 "metadata": {
  "kernelspec": {
   "display_name": "Python 3",
   "language": "python",
   "name": "python3"
  },
  "language_info": {
   "codemirror_mode": {
    "name": "ipython",
    "version": 3
   },
   "file_extension": ".py",
   "mimetype": "text/x-python",
   "name": "python",
   "nbconvert_exporter": "python",
   "pygments_lexer": "ipython3",
   "version": "3.7.10"
  }
 },
 "nbformat": 4,
 "nbformat_minor": 5
}
